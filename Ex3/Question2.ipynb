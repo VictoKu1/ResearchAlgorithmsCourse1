{
 "cells": [
  {
   "cell_type": "code",
   "execution_count": 77,
   "metadata": {},
   "outputs": [],
   "source": [
    "#Decorator function for a function that receives only one parameter. The decorator function checks if the given parameter was already calculated and if so, returns the value from the cache. If not, it calculates the value and stores it in the cache for future use.\n",
    "def lastcall(f):\n",
    "    \"\"\"\n",
    "    >>> f(x=2)\n",
    "    4\n",
    "    >>> f(2)\n",
    "    I've already told you that the answer is 4\n",
    "    >>> f(100)\n",
    "    10000\n",
    "    >>> f(2)\n",
    "    I've already told you that the answer is 4\n",
    "    >>> f(100)\n",
    "    I've already told you that the answer is 10000\n",
    "    \"\"\"\n",
    "    cache = {}\n",
    "    def wrapper(*args, **kwargs):\n",
    "        #Checks if there is only one parameter (both args and kwargs)\n",
    "        if len(args) + len(kwargs) != 1 or len(f.__annotations__) != 1:\n",
    "            raise TypeError(\"Function must receive only one parameter\")\n",
    "        if len(args) == 1:\n",
    "            key = args[0]\n",
    "        else:\n",
    "            key = list(kwargs.values())[0]\n",
    "        #Checks if the parameter is of the correct type\n",
    "        if key in cache:\n",
    "            print(\"I've already told you that the answer is {}\" .format(cache[key]))\n",
    "        else:\n",
    "            cache[key] = f(key)\n",
    "            print(\"{}\".format(cache[key]))\n",
    "    return wrapper"
   ]
  },
  {
   "cell_type": "code",
   "execution_count": 78,
   "metadata": {},
   "outputs": [],
   "source": [
    "@lastcall\n",
    "def f(x:int): \n",
    "    return x**2"
   ]
  },
  {
   "cell_type": "code",
   "execution_count": 79,
   "metadata": {},
   "outputs": [
    {
     "data": {
      "text/plain": [
       "TestResults(failed=0, attempted=5)"
      ]
     },
     "execution_count": 79,
     "metadata": {},
     "output_type": "execute_result"
    }
   ],
   "source": [
    "import doctest\n",
    "doctest.testmod()"
   ]
  }
 ],
 "metadata": {
  "kernelspec": {
   "display_name": "Python 3.11.0 64-bit",
   "language": "python",
   "name": "python3"
  },
  "language_info": {
   "codemirror_mode": {
    "name": "ipython",
    "version": 3
   },
   "file_extension": ".py",
   "mimetype": "text/x-python",
   "name": "python",
   "nbconvert_exporter": "python",
   "pygments_lexer": "ipython3",
   "version": "3.11.0"
  },
  "orig_nbformat": 4,
  "vscode": {
   "interpreter": {
    "hash": "ead1b95f633dc9c51826328e1846203f51a198c6fb5f2884a80417ba131d4e82"
   }
  }
 },
 "nbformat": 4,
 "nbformat_minor": 2
}
