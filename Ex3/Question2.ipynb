{
 "cells": [
  {
   "cell_type": "code",
   "execution_count": 84,
   "metadata": {},
   "outputs": [],
   "source": [
    "#Decorator function for a function that receives only one parameter. The decorator function checks if the given parameter was already calculated and if so, returns the value from the cache. If not, it calculates the value and stores it in the cache for future use.\n",
    "def lastcall(f):\n",
    "    \"\"\"\n",
    "    >>> f(x=2)\n",
    "    4\n",
    "    >>> f(2)\n",
    "    I've already told you that the answer is 4\n",
    "    >>> f(100)\n",
    "    10000\n",
    "    >>> f(2)\n",
    "    I've already told you that the answer is 4\n",
    "    >>> f(100)\n",
    "    I've already told you that the answer is 10000\n",
    "    >>> f(5)\n",
    "    25\n",
    "    >>> f(10-5)\n",
    "    I've already told you that the answer is 25\n",
    "    >>> f(f(25))\n",
    "    390625\n",
    "    >>> f(f(f(f(f(245)))))\n",
    "    28399761943980951331056977216223530023256672875286042713560163974761962890625\n",
    "    >>> string_len(\"Hello\")\n",
    "    5\n",
    "    >>> string_len(\"Hello\")\n",
    "    I've already told you that the answer is 5\n",
    "    >>> tell_me_its_ip_address(\"1.1.1.1\")\n",
    "    '1.1.1.1'\n",
    "    >>> tell_me_its_ip_address(\"1.1.1.1\")\n",
    "    I've already told you that the answer is 1.1.1.1\n",
    "    >>> explain(\"Piano\")\n",
    "    'a stringed keyboard instrument in which the strings are struck by wooden hammers that are coated with a softer material (modern hammers are covered with dense wool felt; some early pianos used leather)'\n",
    "    >>> explain(\"Piano\")\n",
    "    I've already told you that the answer is a stringed keyboard instrument in which the strings are struck by wooden hammers that are coated with a softer material (modern hammers are covered with dense wool felt; some early pianos used leather)\n",
    "    \"\"\"\n",
    "    cache = {}\n",
    "    def wrapper(*args, **kwargs):\n",
    "        #Checks if there is only one parameter (both args and kwargs)\n",
    "        if len(args) + len(kwargs) != 1 or len(f.__annotations__) != 1:\n",
    "            raise TypeError(\"Function must receive only one parameter\")\n",
    "        if len(args) == 1:\n",
    "            key = args[0]\n",
    "        else:\n",
    "            key = list(kwargs.values())[0]\n",
    "        #Checks if the parameter is of the correct type\n",
    "        if key in cache:\n",
    "            print(\"I've already told you that the answer is {}\" .format(cache[key]))\n",
    "            return None\n",
    "        else:\n",
    "            cache[key] = f(key)\n",
    "            return cache[key]\n",
    "    return wrapper"
   ]
  },
  {
   "cell_type": "code",
   "execution_count": 85,
   "metadata": {},
   "outputs": [],
   "source": [
    "@lastcall\n",
    "def tell_me_its_ip_address(utl : str):\n",
    "    import socket\n",
    "    return socket.gethostbyname(utl)\n"
   ]
  },
  {
   "cell_type": "code",
   "execution_count": 86,
   "metadata": {},
   "outputs": [],
   "source": [
    "import string\n",
    "@lastcall\n",
    "def string_len(z:string):\n",
    "    return len(z)"
   ]
  },
  {
   "cell_type": "code",
   "execution_count": 87,
   "metadata": {},
   "outputs": [],
   "source": [
    "@lastcall\n",
    "def f(x:int): \n",
    "    return x**2"
   ]
  },
  {
   "cell_type": "code",
   "execution_count": 88,
   "metadata": {},
   "outputs": [],
   "source": [
    "@lastcall\n",
    "#Function receives a name of a thing (person, place, food, concept, etc.) and returns a string with a short description of the thing.\n",
    "def explain(name: str):\n",
    "    #pip install wikipedia-api\n",
    "    import wikipediaapi\n",
    "    #Set the wikipedia language to English.\n",
    "    wiki_wiki = wikipediaapi.Wikipedia('en')\n",
    "    #Get the page of the given name.\n",
    "    page_py = wiki_wiki.page(name)\n",
    "    #If the page doesn't exist, return a relevant message.\n",
    "    if not page_py.exists():\n",
    "        return \"Page {} does not exist\".format(name)\n",
    "    #Focus on the first paragraph of the page.\n",
    "    summary = page_py.summary\n",
    "    #Select the first sentence of the paragraph.\n",
    "    first_sentence = summary.split(\".\")[0]\n",
    "    #If the article is offering a redirect in case of ambiguity, return a relevant message.\n",
    "    if \"may refer to\" in first_sentence.lower():\n",
    "        return \"This is ambiguous, try to be more specific.\"\n",
    "    #Find which one is the first \"is\" or \"are\" and remove everything before it.\n",
    "    for i in range(len(first_sentence)):\n",
    "        if first_sentence[i:i+4] in [\" is \"]:\n",
    "            return first_sentence[i+4:]\n",
    "        elif first_sentence[i:i+5] in [\" are \"]:\n",
    "            return first_sentence[i+5:]\n",
    "    return first_sentence"
   ]
  },
  {
   "cell_type": "code",
   "execution_count": 89,
   "metadata": {},
   "outputs": [
    {
     "data": {
      "text/plain": [
       "TestResults(failed=0, attempted=15)"
      ]
     },
     "execution_count": 89,
     "metadata": {},
     "output_type": "execute_result"
    }
   ],
   "source": [
    "import doctest\n",
    "doctest.testmod()\n",
    "\n",
    "\n"
   ]
  }
 ],
 "metadata": {
  "kernelspec": {
   "display_name": "Python 3.8.10 64-bit",
   "language": "python",
   "name": "python3"
  },
  "language_info": {
   "codemirror_mode": {
    "name": "ipython",
    "version": 3
   },
   "file_extension": ".py",
   "mimetype": "text/x-python",
   "name": "python",
   "nbconvert_exporter": "python",
   "pygments_lexer": "ipython3",
   "version": "3.8.10"
  },
  "orig_nbformat": 4,
  "vscode": {
   "interpreter": {
    "hash": "e7370f93d1d0cde622a1f8e1c04877d8463912d04d973331ad4851f04de6915a"
   }
  }
 },
 "nbformat": 4,
 "nbformat_minor": 2
}
