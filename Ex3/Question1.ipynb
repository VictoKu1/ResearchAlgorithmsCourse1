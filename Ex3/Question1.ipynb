{
 "cells": [
  {
   "cell_type": "code",
   "execution_count": 220,
   "metadata": {},
   "outputs": [],
   "source": [
    "#Function receives name of a text file and returns its content as a string\n",
    "def extract_text_file(filename):\n",
    "    #Open file\n",
    "    file = open(filename, \"r\")\n",
    "    #Read file\n",
    "    text = file.read()\n",
    "    #Close file\n",
    "    file.close()\n",
    "    return text"
   ]
  },
  {
   "cell_type": "code",
   "execution_count": 221,
   "metadata": {},
   "outputs": [],
   "source": [
    "import re\n",
    "#Function receives a string and returns a list of all the emails in the string (containing @)\n",
    "def find_emails(text):\n",
    "    #Create a list of all the emails in the string\n",
    "    emails = re.findall('[\\S]+@[\\S]+', text)\n",
    "    return emails"
   ]
  },
  {
   "cell_type": "code",
   "execution_count": 222,
   "metadata": {},
   "outputs": [],
   "source": [
    "#Function receives a list of emails and filters all the emails with the correct format to a new list and moves the wrong format emails to a new list and prints them.\n",
    "#A valid email address consists of an email prefix and an email domain, both in acceptable formats.\n",
    "#The prefix appears to the left of the @ symbol.\n",
    "#The domain appears to the right of the @ symbol.\n",
    "#For example, in the address example@mail.com, \"example\" is the email prefix, and \"mail.com\" is the email domain.\n",
    "#Allowed characters: letters (a-z) and numbers, underscores, periods, dashes which must be followed by one or more letter or numbers.\n",
    "#The last portion of the domain must be at least two characters, for example: .com, .org, .cc .\n",
    "def filter_emails(emails):\n",
    "    correct_emails = []\n",
    "    wrong_emails = []\n",
    "    for email in emails:\n",
    "        if re.match('^[a-z0-9]+[\\._-]?[a-z0-9]+[@][a-z0-9]+[\\._-]?[a-z0-9]+[.]\\w{2,}$', email):\n",
    "            correct_emails.append(email)\n",
    "        else:\n",
    "            wrong_emails.append(email)\n",
    "    print(\"Correct emails:\", correct_emails)\n",
    "    print(\"Wrong emails:\", wrong_emails)"
   ]
  },
  {
   "cell_type": "code",
   "execution_count": 223,
   "metadata": {},
   "outputs": [],
   "source": [
    "# Function receives a name of a text file and prints a list of all the emails in the correct format and a list of all the emails in the wrong format\n",
    "def main1(filename):\n",
    "    filter_emails(find_emails(extract_text_file(filename)))\n",
    "    "
   ]
  },
  {
   "cell_type": "code",
   "execution_count": 225,
   "metadata": {},
   "outputs": [
    {
     "name": "stdout",
     "output_type": "stream",
     "text": [
      "Correct emails: ['abc-d@mail.com', 'abc.def@mail.com', 'abc@mail.com', 'abc_def@mail.com', 'abc.def@mail.cc', 'abc.def@mail-archive.com', 'abc.def@mail.org', 'abc.def@mail.com']\n",
      "Wrong emails: ['example@mail.com,', 'abc-@mail.com', 'abc..def@mail.com', '.abc@mail.com', 'abc#def@mail.com', 'abc.def@mail.c', 'abc.def@mail#archive.com', 'abc.def@mail', 'abc.def@mail..com']\n"
     ]
    }
   ],
   "source": [
    "main1(\"a.txt\")"
   ]
  }
 ],
 "metadata": {
  "kernelspec": {
   "display_name": "Python 3.10.8 64-bit (microsoft store)",
   "language": "python",
   "name": "python3"
  },
  "language_info": {
   "codemirror_mode": {
    "name": "ipython",
    "version": 3
   },
   "file_extension": ".py",
   "mimetype": "text/x-python",
   "name": "python",
   "nbconvert_exporter": "python",
   "pygments_lexer": "ipython3",
   "version": "3.10.8"
  },
  "orig_nbformat": 4,
  "vscode": {
   "interpreter": {
    "hash": "502902bf03e26b54e4f77c162d1f4dfabc36b1117ef309ff632b5314a103657d"
   }
  }
 },
 "nbformat": 4,
 "nbformat_minor": 2
}
