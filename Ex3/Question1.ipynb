{
 "cells": [
  {
   "cell_type": "code",
   "execution_count": 2,
   "metadata": {},
   "outputs": [],
   "source": [
    "#Function receives name of a text file and returns its content as a string\n",
    "def extract_text_file(filename):\n",
    "    #Open file\n",
    "    file = open(filename, \"r\")\n",
    "    #Read file\n",
    "    text = file.read()\n",
    "    #Close file\n",
    "    file.close()\n",
    "    return text"
   ]
  },
  {
   "cell_type": "code",
   "execution_count": 3,
   "metadata": {},
   "outputs": [],
   "source": [
    "import re\n",
    "#Function receives a string and returns a list of all the emails in the string (containing @)\n",
    "def find_emails(text):\n",
    "    #Create a list of all the emails in the string\n",
    "    emails = re.findall('[\\S]+@[\\S]+', text)\n",
    "    return emails"
   ]
  },
  {
   "cell_type": "code",
   "execution_count": 4,
   "metadata": {},
   "outputs": [],
   "source": [
    "#Function receives a list of emails and filters all the emails with the correct format to a new list and moves the wrong format emails to a new list and prints them.\n",
    "#A valid email address consists of an email prefix and an email domain, both in acceptable formats.\n",
    "#The prefix appears to the left of the @ symbol.\n",
    "#The domain appears to the right of the @ symbol.\n",
    "#For example, in the address example@mail.com, \"example\" is the email prefix, and \"mail.com\" is the email domain.\n",
    "#Allowed characters: letters (a-z) and numbers, underscores, periods, dashes which must be followed by one or more letter or numbers.\n",
    "#The last portion of the domain must be at least two characters, for example: .com, .org, .cc .\n",
    "def filter_emails(emails):\n",
    "    correct_emails = []\n",
    "    wrong_emails = []\n",
    "    for email in emails:\n",
    "        email = email.lower()\n",
    "        if re.match('^[a-z0-9]+[\\._-]?[a-z0-9]+[@][a-z0-9]+[\\._-]?[a-z0-9]+[.]\\w{2,}$', email):\n",
    "            correct_emails.append(email)\n",
    "        else:\n",
    "            wrong_emails.append(email)\n",
    "    print(\"Correct emails:\", correct_emails)\n",
    "    print(\"Wrong emails:\", wrong_emails)"
   ]
  },
  {
   "cell_type": "code",
   "execution_count": 5,
   "metadata": {},
   "outputs": [],
   "source": [
    "#Function receives a name of a text file and prints a list of all the emails in the correct format and a list of all the emails in the wrong format\n",
    "def main1(filename):\n",
    "    '''\n",
    "    >>> main1(\"Files/y.txt\")\n",
    "    Correct emails: ['p8thmuedfdthnpyziaif3iru@vywn.yzdrr', 'mgmm7fpuj4v8sqhbwp5q@lvwr.btvwt', 'odo6tms4lvtrpvdn1zzmza5@zouyg.jernw', 'wfitga9z15gr6nv7hj4he@zdeqd.cwimw', 'awtfdeigkj@ign.mfs', 'iaftdj@ohe.jpbxs', 'zh6xsho1qn@abpm.mxwjo', 'oqdy33pmbdv2tzgcz399rs@mwnp.lvfof', 'utup@rmhr.jong', 'sazbesn1cu@fxc.hlui', 'mulwtyzozohfzvp@hhs.ctn', 's5zehndcbebhsp0icxcm6dv2@dnlvm.lq', 'bxq@yiyj.myltg', '3bpkxro@piqjq.omga', 'vnk21j7mya@pur.emz', 'g3n56yigw8x6ramkayiy99rpt@ynb.fe', 'dckxbj63@kih.yalzp', '65uyiybsfyy7bk6xc2@gublz.hajgu', 'urbbwqujnsh59cizehnb@azc.czafq', 'jndzauxpelhcc9aa@jcr.ytoj', 'jwns@xyz.bpz', 'tpx@jrv.gwd', 'rmzurs4c0wue1yxpyv8vqecf@axsrl.zogr', 'j73qd1@xhhy.sq', '7betajr0d@jif.hrkh', 'bgdf@rloly.feor', '0qkgbkl0fqnzk@iatod.km', 'kxap@argv.mlfti', '7eqx3rextvqkk3w7amg@wsr.vv', '1advhgktl4ipzf4pcyw@oit.is', '3qal7hn@pvqb.sad', 'a4hcaa2qed@hvwf.paoxn', '4drm8qt@twx.uaw', 'ogmdjkags@uwfvn.fzdb', 'xsf05m7@jps.zrj', 'qs4o9nof3rjdykh0tois@xpc.ao', '1dyejmtvfzrhdvlx3otb8@zvd.cg', 'oo2jab@vujr.zesl', 'ilzxhku3kwwi4vsos26vq0y3i@awoy.uux', 'vcb81q@xsnff.la', '5lhibduy@qrn.pdfyw', 'ybbqpzsgtrhf@loot.gza', 'enm45@rabt.jjgew', 'huskzjo33@ehij.lfobf', 'ha1vlglnx@qnw.ncni', 'so64u28j9wfncl4te@tdcjg.kkshv', 'iq5q8vcuzd7ewl@rxo.xffos', 'wkl7siph2he1xyf15v0b@ksjx.lc', 'xw4lx@qohvk.gns', 'dsc84bytrsbx7gib6okfe9c@tgo.kbfx', 'tcgmw98v5sdnctj7umcnb@vieit.jqe', '5xk4yctnmqqljprucrev@hwdrg.mvawt', 'oajtx5h4csmb@azywe.cj', '1k8z1kbdc@bxujo.hvkh', '2mnbomhh@mqe.nvb', '4lk@yvf.od', 'qfvgyylar9ty2lkoynyni@ixlo.efn', 'x1ng@ihok.fnknq', '2okid5uu@iytkk.rerv', 'xdt0gb@wdi.inm', 'zz06n743ctgw@rzjta.sqmm', 'en5ua9@snj.fnd', '1buaggis0ny4u1s@kztqb.aswhk', 'ahigpbhnfzmf48@yxerh.lyl', 'ytqpkxnrlwvh39vzdu@lfuh.fjbo', 'h4nhpwt8kmskpomu1wsrbujcm@icm.dc', '5xod4fvdong@kthac.ck', '2ptzavyyn7gw@ahk.ilvh', 'szesgnflwbfpl0njlpzfs5@cdd.lb', 'db0uox2gtjko1hkzsv@fpg.hs', 'mnxdhai87irolbcyrxvi7wvcl@asvxt.kluqg', '0jr@sgaa.fxb', 'cvfbwh@qsyu.mqh', 'kjimobtfbs6stiss9bo9@loim.sh', 'vtaxyvqhlwrrxq8f6nfz6@knoi.knvi', 'olrnyqcowp@nbb.pr', 'ryanfrsludhewfiipop1g5l@zzq.ugs', '8vuc02tok@ixuvv.qsbn', '1hujrxwxtzecsqn5nct@kyx.uee']\n",
    "    Wrong emails: ['ic0xq8rlfstyjvwmfv@vzk.ueimv%', '6ptdkm4g4kyrlsj18e5f@umhst.wkhv/', 'rctzflgpccjcacbzp@pur.mqxa?<%(', 'inh@sjqqj.gkwgr!$', 'hi5i0wuj6yyfnisnbo@wldh.qylja&|&(', 'yyrye8nocowybi@jfv.moqt((', 'dvfxkote6hdgupj@htcdc.ccmz|/!', 'vftoqnl3cj5vpvdk7e7enph@umjh.aqwbi/&{', 'tfmj7tthvb1e@pqryt.hofjh}%', 'jsceddlte8g@xmhtb.bp$}>', 'xoohsfublfefsfb8udnpt@flo.jjrhx<}', '1ro0m8sxf10m@zgach.gfa}$>|%', 'eimf@mhq.vc!', '5j9fz87g4@oxs.xag*$%', 'x4h5d3ojuosbpclql@tvkcv.fw?{', 'vpjeztfb9eijk6amangem@dmf.cy}', 'zdttfzmcwploygfvcwz0@jan.do/^(|}', 'm0rroo@zpzzt.ybqqw&', 'sdler4c@vwyqp.rxjg^{', '0tohswpedpfg5ctgtgyygn@hupit.dhoha/', 'it0xuxrjkkbhttvotnsrups@epwq.zh?<&', 'n3eppblgpwa@ltagh.omrr&<|', '1qogvusg5g@fnl.dmws}|', 'z4k64cgz8hloiox13ewqpob@fgd.qrhoq{?^$', 'qztvbixb@hso.dbs&))/', 'i3otb@tdsew.qqz)^>/%', '41sazfmtvamczvhkscj@ttbt.qedz>*){<', 'pedvkxwxhtmxjz@yivwn.jy(%||>', 'dwx@ftmy.uo&)>', 'kguxt@iyl.tl)|', 'ztptxh2dqyaeiats2u2y@nhfbw.tv/$)&', 'aqlad@oln.kbpsp)>^*$', 'tgi8k2cn@jmits.krg)!?%}', 'bgp4fjzsidt1eudnoj@nzyb.lu%($%', 'luhydts@pag.pjx)*<*', 'zyyb4jim@rnu.dq|%/', 'yg7sxupjizgaec8f@qvj.dzxm$</', 'btlzvd1icvcdnptz0@prjtj.equ/', '7xzk@zxmsj.kow{', 'tx9ut@jepr.wdvm>!', 'wvchz3k66tpywbhurtb@bnytg.dsbr{({{', '5jsumv70xba34ro@ptqo.nhe!|>))', 'uuuizmpqlo@bqekd.zeqw{$>^', '1zuofjwugtlvj@khph.oei|{)|)', '1qs6@npkr.je?$?>', 'uvkxbsber7l5pwkjtitcw@ipjxg.xwjs/?))', 'fo73wsjyjbg6w47yi82kufm@seug.axv(^<>', 'hyyoq0@mzs.na?)|/<', '9gll0jx5ceirc9ztwyopa@jtsjf.eminc$!)%', 'iisrrkk@bft.yai?', 'jvxefkqog68y@gld.lqmd>^)', 'ifx3nt6xh3scszc@lub.welj*<{^', '6b74ezi2ltwpx4bsy@pavbc.kh/<', 'gjmh8lawechoodlobv3ixp1e@hzn.yvab$$', 'u1fo8f7klfug8vvyfnghrqg51@mdxaj.lrepn|{/%', '722uq20rwcih@drg.vuh))?&', 'brkchjxsa@ieey.pycqg))', 'jwr1rqx3egwwlrbxekuq9iw@acykp.vqasp!/?', '5kgd@yga.rbczw%', 'vty9h@ujni.gam&|!!', 'klxso7uyco@tgcrb.xqvhx(', 'imzenhluo@kwf.pz<^', 'goxj2@lee.my/', '2hkpzqb4yr@xajdt.wjbne)))', 'dkfbskjqqnnuta6fi@xzkz.hptol)><)/', 'bfspak5m7rikku0xc5@nhtph.bng)%|', 'wczsxfbaykbkzmkhjqxa@gsfg.dtjdq!$(|', 'yginp41gvzsto1nmjp0kv@xwek.mb<){)', 'mcgy2nuykrp5d@bvkbd.bldyf)|%?&', 'bsekvjjbx@ihm.iakom><', 'vlbocnspmmdzsvvngdnfozrd@dgplo.qg}', '0zs6r@ldjne.zboqh|{)%', 'lvlw7pxjim19t@odoh.afq**%&)', 'tsytvii5dl4b@newgy.ivq)}', '97ps@lkapg.iin?', 'd2v1xvponpzheogo5e5x1n4jl@hwokw.ez)*', 'sbkrqlkao@fbg.owmwn{|', 'ekn@fsaz.rtef(|)', 'js2giwzampqmjduyktqea7@sqxm.oyj()}', 'gismyplzegrcs1jsgf4xt@uozs.rkvgu|']\n",
    "    >>> main1(\"Files/a.txt\")\n",
    "    Correct emails: ['abc-d@mail.com', 'abc.def@mail.com', 'abc@mail.com', 'abc_def@mail.com', 'abc.def@mail.cc', 'abc.def@mail-archive.com', 'abc.def@mail.org', 'abc.def@mail.com']\n",
    "    Wrong emails: ['example@mail.com,', 'abc-@mail.com', 'abc..def@mail.com', '.abc@mail.com', 'abc#def@mail.com', 'abc.def@mail.c', 'abc.def@mail#archive.com', 'abc.def@mail', 'abc.def@mail..com']\n",
    "    >>> main1(\"Files/empty.txt\")\n",
    "    Correct emails: []\n",
    "    Wrong emails: []\n",
    "    >>> main1(\"no_such_file.txt\")\n",
    "    Traceback (most recent call last):\n",
    "    ...\n",
    "    FileNotFoundError: [Errno 2] No such file or directory: 'no_such_file.txt'\n",
    "    >>> test5()\n",
    "    '''\n",
    "    filter_emails(find_emails(extract_text_file(filename)))"
   ]
  },
  {
   "cell_type": "code",
   "execution_count": 6,
   "metadata": {},
   "outputs": [],
   "source": [
    "#Function receives a number and returns a list of all the emails in the correct format and a list of all the emails in the wrong format\n",
    "def email_generator(n,file):\n",
    "    import random\n",
    "    import string\n",
    "    emails = []\n",
    "    for i in range(n):\n",
    "        email = \"\"\n",
    "        #Create a random email prefix\n",
    "        for j in range(random.randint(3, 25)):\n",
    "            email += random.choice(string.ascii_letters + string.digits)\n",
    "        #Add @ symbol\n",
    "        email += \"@\"\n",
    "        #Create a random email domain\n",
    "        for j in range(random.randint(3,5)):\n",
    "            email += random.choice(string.ascii_letters )#+ string.digits)\n",
    "        #Add . symbol\n",
    "        email += \".\"\n",
    "        #Create a random email domain extension\n",
    "        for j in range(random.randint(2, 5)):\n",
    "            email += random.choice(string.ascii_letters )#+ string.digits)\n",
    "        addition1 = \"\"\n",
    "        #If a is even, add (/)/!/$/%/^/&/*/</>/?/|/'/{/} string of a random (1-5) characters to the end of the email\n",
    "        if i%2==0:\n",
    "            addition1 += \"\".join(random.choice(\"())!$%^&*<>?|}{/\") for i in range (random.randint(1, 5)))\n",
    "        email += addition1\n",
    "        emails.append(email+\" \")\n",
    "    #Write the emails to a file\n",
    "    file = open(file, \"w\")\n",
    "    for email in emails:\n",
    "        #Randomly generate a string of 1-10 characters and add it to the end of the email\n",
    "        file.write(email + \" \".join(random.choice(string.ascii_letters + string.digits) for i in range(random.randint(1, 15))) + \" \")\n",
    "    file.close()\n",
    "    return emails"
   ]
  },
  {
   "cell_type": "code",
   "execution_count": 7,
   "metadata": {},
   "outputs": [],
   "source": [
    "def check():\n",
    "    emails = email_generator(15,\"Files/p.txt\")\n",
    "    correct = []\n",
    "    wrong = []\n",
    "    for i in range(len(emails)):\n",
    "        if i%2==0:\n",
    "            wrong.append(emails[i])\n",
    "        else:\n",
    "            correct.append(emails[i])\n",
    "    reply0 = \"Correct emails: \" + str(correct).lower().replace(\" ',\",\"',\").replace(\" ']\",\"']\")\n",
    "    reply1 = \"Wrong emails: \" + str(wrong).lower().replace(\" ',\",\"',\").replace(\" ']\",\"']\")\n",
    "    return reply0+\"\\n\"+reply1"
   ]
  },
  {
   "cell_type": "code",
   "execution_count": 8,
   "metadata": {},
   "outputs": [],
   "source": [
    "def test5():\n",
    "    #Compare the print of main1() function to a given string\n",
    "    compare = check()\n",
    "    import io, sys\n",
    "    #Create StringIO object\n",
    "    capturedOutput = io.StringIO()\n",
    "    #And redirect stdout.\n",
    "    sys.stdout = capturedOutput\n",
    "    #Call function.\n",
    "    main1(\"Files/p.txt\")\n",
    "    #Reset redirect.\n",
    "    sys.stdout = sys.__stdout__\n",
    "    if capturedOutput.getvalue().replace(\" \", \"\").replace(\"\\n\", \"\") == compare.replace(\" \", \"\").replace(\"\\n\", \"\"):\n",
    "        print(\"Special output for test5: No error\")\n",
    "    else:\n",
    "        print(\"Special output for test5: Error\")"
   ]
  },
  {
   "cell_type": "code",
   "execution_count": 25,
   "metadata": {},
   "outputs": [
    {
     "name": "stdout",
     "output_type": "stream",
     "text": [
      "Special output for test5: No error\n"
     ]
    },
    {
     "data": {
      "text/plain": [
       "TestResults(failed=0, attempted=5)"
      ]
     },
     "execution_count": 25,
     "metadata": {},
     "output_type": "execute_result"
    }
   ],
   "source": [
    "import doctest\n",
    "doctest.testmod()\n",
    "\n",
    "\n"
   ]
  }
 ],
 "metadata": {
  "kernelspec": {
   "display_name": "Python 3.8.10 64-bit",
   "language": "python",
   "name": "python3"
  },
  "language_info": {
   "codemirror_mode": {
    "name": "ipython",
    "version": 3
   },
   "file_extension": ".py",
   "mimetype": "text/x-python",
   "name": "python",
   "nbconvert_exporter": "python",
   "pygments_lexer": "ipython3",
   "version": "3.8.10 (default, Nov 14 2022, 12:59:47) \n[GCC 9.4.0]"
  },
  "orig_nbformat": 4,
  "vscode": {
   "interpreter": {
    "hash": "e7370f93d1d0cde622a1f8e1c04877d8463912d04d973331ad4851f04de6915a"
   }
  }
 },
 "nbformat": 4,
 "nbformat_minor": 2
}
