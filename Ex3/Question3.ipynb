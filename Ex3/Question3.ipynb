{
 "cells": [
  {
   "cell_type": "code",
   "execution_count": 44,
   "metadata": {},
   "outputs": [],
   "source": [
    "#Class List which is equal to list but allows to access elements with 3D syntax listname[x,y,z]\n",
    "import math\n",
    "class List:\n",
    "    def __init__(self, list):\n",
    "        self.list = list\n",
    "    def __getitem__(self, key):\n",
    "        return self.list[key[0]][key[1]][key[2]]\n",
    "    def __setitem__(self, key, value):\n",
    "        self.list[key[0]][key[1]][key[2]] = value\n",
    "    def __str__(self):\n",
    "        return str(self.list)\n",
    "    def __repr__(self):\n",
    "        return str(self.list)\n",
    "    def __len__(self):\n",
    "        return len(self.list)\n",
    "    def __add__(self, other):\n",
    "        return List(self.list + other.list)\n",
    "    def __sub__(self, other):\n",
    "        return List(self.list - other.list)\n",
    "    def __mul__(self, other):\n",
    "        return List(self.list * other.list)\n",
    "    def __truediv__(self, other):\n",
    "        return List(self.list / other.list)\n",
    "    def __floordiv__(self, other):\n",
    "        return List(self.list // other.list)\n",
    "    def __mod__(self, other):\n",
    "        return List(self.list % other.list)\n",
    "    def __pow__(self, other):\n",
    "        return List(self.list ** other.list)\n",
    "    def __and__(self, other):\n",
    "        return List(self.list & other.list)\n",
    "    def __or__(self, other):\n",
    "        return List(self.list | other.list)\n",
    "    def __xor__(self, other):\n",
    "        return List(self.list ^ other.list)\n",
    "    def __lshift__(self, other):\n",
    "        return List(self.list << other.list)\n",
    "    def __rshift__(self, other):\n",
    "        return List(self.list >> other.list)\n",
    "    def __neg__(self):\n",
    "        return List(-self.list)\n",
    "    def __pos__(self):\n",
    "        return List(+self.list)\n",
    "    def __abs__(self):\n",
    "        return List(abs(self.list))\n",
    "    def __invert__(self):\n",
    "        return List(~self.list)\n",
    "    def __round__(self, n):\n",
    "        return List(round(self.list, n))\n",
    "    def __floor__(self):\n",
    "        return List(math.floor(self.list))\n",
    "    def __ceil__(self):\n",
    "        return List(math.ceil(self.list))\n",
    "    def __trunc__(self):\n",
    "        return List(math.trunc(self.list))\n",
    "    def __eq__(self, other):\n",
    "        return self.list == other.list\n",
    "    def __ne__(self, other):\n",
    "        return self.list != other.list\n",
    "    def __lt__(self, other):\n",
    "        return self.list < other.list\n",
    "    def __le__(self, other):\n",
    "        return self.list <= other.list\n",
    "    def __gt__(self, other):\n",
    "        return self.list > other.list\n",
    "    def __ge__(self, other):\n",
    "        return self.list >= other.list\n",
    "    def __contains__(self, item):\n",
    "        return item in self.list\n",
    "    def __iter__(self):\n",
    "        return iter(self.list)\n",
    "    def __reversed__(self):\n",
    "        return reversed(self.list)\n",
    "    def __delitem__(self, key):\n",
    "        del self.list[key]\n"
   ]
  },
  {
   "cell_type": "code",
   "execution_count": 45,
   "metadata": {},
   "outputs": [
    {
     "name": "stdout",
     "output_type": "stream",
     "text": [
      "True\n"
     ]
    }
   ],
   "source": [
    "mylist0 = List([\n",
    "    [[1,2,3,33],[4,5,6,66]],\n",
    "    [[7,8,9,99],[10,11,12,122]],\n",
    "    [[13,14,15,155],[16,17,18,188]],\n",
    "    ]\n",
    ")\n",
    "mylist1= List([\n",
    "    [[1,2,3,33],[4,5,6,66]],\n",
    "    [[7,8,9,99],[10,11,12,122]],\n",
    "    [[13,14,15,155],[16,17,18,188]],\n",
    "    ]\n",
    ")\n",
    "print(mylist0[0,1,1]==mylist1[0,1,1])"
   ]
  }
 ],
 "metadata": {
  "kernelspec": {
   "display_name": "Python 3.8.10 64-bit",
   "language": "python",
   "name": "python3"
  },
  "language_info": {
   "codemirror_mode": {
    "name": "ipython",
    "version": 3
   },
   "file_extension": ".py",
   "mimetype": "text/x-python",
   "name": "python",
   "nbconvert_exporter": "python",
   "pygments_lexer": "ipython3",
   "version": "3.8.10"
  },
  "orig_nbformat": 4,
  "vscode": {
   "interpreter": {
    "hash": "e7370f93d1d0cde622a1f8e1c04877d8463912d04d973331ad4851f04de6915a"
   }
  }
 },
 "nbformat": 4,
 "nbformat_minor": 2
}
