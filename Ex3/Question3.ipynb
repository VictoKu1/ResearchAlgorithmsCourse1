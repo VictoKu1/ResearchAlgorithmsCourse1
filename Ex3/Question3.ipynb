{
 "cells": [
  {
   "cell_type": "code",
   "execution_count": 2,
   "metadata": {},
   "outputs": [],
   "source": [
    "#Class List which is an equivalent of a regular list but allows to access elements with an syntax of an multidimensional array.\n",
    "from functools import reduce\n",
    "class List(list):\n",
    "    #Constructor.\n",
    "    def __init__(self, *args):\n",
    "        '''\n",
    "        >>> print(mylist011)\n",
    "        [[[1, 2, 3, 33], [4, 5, 6, 66]], [[7, 8, 9, 99], [10, 11, 12, 122]], [[13, 14, 15, 155], [16, 17, 18, 188]], [[0, 2, 3, 33], [4, 5, 6, 66]], [[7, 8, 9, 99], [10, 11, 12, 122]], [[13, 14, 15, 155], [16, 17, 18, 188]]]\n",
    "        >>> print(mylist0)\n",
    "        [[[1, 2, 3, 33], [4, 5, 6, 66]], [[7, 8, 9, 99], [10, 11, 12, 122]], [[13, 14, 15, 155], [16, 17, 18, 188]]]\n",
    "        >>> print(mylist0[0])\n",
    "        [[1, 2, 3, 33], [4, 5, 6, 66]]\n",
    "        >>> print(mylist0[0,1])\n",
    "        [4, 5, 6, 66]\n",
    "        >>> print(mylist0[0,1,1])\n",
    "        5\n",
    "        >>> print(mylist0!=mylist1)\n",
    "        False\n",
    "        >>> print(mylist0!=mylist001)\n",
    "        True\n",
    "        >>> print(mylist0==mylist1)\n",
    "        True\n",
    "        >>> print(len(mylist0[0,1]))\n",
    "        4\n",
    "        '''\n",
    "        # If the first argument is a list, then we are initializing from a list.\n",
    "        super(List, self).__init__(*args)\n",
    "    #Get the element at the given index in the list.\n",
    "    def __getitem__(self, key):\n",
    "        #If the key is a tuple, then we are indexing into a multidimensional array.\n",
    "        if isinstance(key, tuple):\n",
    "            #Reduce the tuple to a single value by recursively indexing into the list and returning the value.\n",
    "            return reduce(lambda x, y: x[y], key, self)\n",
    "        else:\n",
    "            #Return the value at the given index in the list.\n",
    "            return super(List, self).__getitem__(key)\n",
    "    #Set the element at the given index in the list to the given value.\n",
    "    def __setitem__(self, key, value):\n",
    "        #If the key is a tuple, then we are indexing into a multidimensional array.\n",
    "        if isinstance(key, tuple):\n",
    "            #Reduce the tuple to a single value by recursively indexing into the list and setting the value.\n",
    "            reduce(lambda x, y: x[y], key[:-1], self)[key[-1]] = value\n",
    "        else:\n",
    "            #Set the value at the given index in the list.\n",
    "            super(List, self).__setitem__(key, value)\n",
    "    #Implements the deletion of an element at the given index in the list.\n",
    "    def __delitem__(self, key):\n",
    "        #If the key is a tuple, then we are indexing into a multidimensional array.\n",
    "        if isinstance(key, tuple):\n",
    "            #Reduce the tuple to a single value by recursively indexing into the list and deleting the value.\n",
    "            reduce(lambda x, y: x[y], key[:-1], self).__delitem__(key[-1])\n",
    "        else:\n",
    "            #Delete the value at the given index in the list.\n",
    "            super(List, self).__delitem__(key)\n",
    "    #Returns a string representation of the list in a human readable form.\n",
    "    def __str__(self):\n",
    "        return super(List, self).__str__()\n",
    "    #Returns a string representation of the list in unambiguous form.\n",
    "    def __repr__(self):\n",
    "        return super(List, self).__repr__()"
   ]
  },
  {
   "cell_type": "code",
   "execution_count": 3,
   "metadata": {},
   "outputs": [],
   "source": [
    "mylist0 = List([\n",
    "    [[1,2,3,33],[4,5,6,66]],\n",
    "    [[7,8,9,99],[10,11,12,122]],\n",
    "    [[13,14,15,155],[16,17,18,188]],\n",
    "    ]\n",
    ")\n",
    "mylist1= List([\n",
    "    [[1,2,3,33],[4,5,6,66]],\n",
    "    [[7,8,9,99],[10,11,12,122]],\n",
    "    [[13,14,15,155],[16,17,18,188]],\n",
    "    ]\n",
    ")\n",
    "mylist001 = List([\n",
    "    [[0,2,3,33],[4,5,6,66]],\n",
    "    [[7,8,9,99],[10,11,12,122]],\n",
    "    [[13,14,15,155],[16,17,18,188]],\n",
    "    ]\n",
    ")\n",
    "mylist011 = mylist0 + mylist001"
   ]
  },
  {
   "cell_type": "code",
   "execution_count": 9,
   "metadata": {},
   "outputs": [
    {
     "data": {
      "text/plain": [
       "TestResults(failed=0, attempted=9)"
      ]
     },
     "execution_count": 9,
     "metadata": {},
     "output_type": "execute_result"
    }
   ],
   "source": [
    "import doctest\n",
    "doctest.testmod()\n",
    "\n",
    "\n"
   ]
  }
 ],
 "metadata": {
  "kernelspec": {
   "display_name": "Python 3.8.10 64-bit",
   "language": "python",
   "name": "python3"
  },
  "language_info": {
   "codemirror_mode": {
    "name": "ipython",
    "version": 3
   },
   "file_extension": ".py",
   "mimetype": "text/x-python",
   "name": "python",
   "nbconvert_exporter": "python",
   "pygments_lexer": "ipython3",
   "version": "3.8.10"
  },
  "orig_nbformat": 4,
  "vscode": {
   "interpreter": {
    "hash": "5b3ded1ccb95c1d9bd405e7b823d9e85424cde40fbb5985eb47e999ef50e15b4"
   }
  }
 },
 "nbformat": 4,
 "nbformat_minor": 2
}
