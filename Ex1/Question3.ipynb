{
 "cells": [
  {
   "cell_type": "code",
   "execution_count": 25,
   "metadata": {},
   "outputs": [],
   "source": [
    "# Function input is a deep data structure which may contain lists, tuples, sets and dictionaries, sorts it in all levels and prints it sorted.\n",
    "def print_sorted(data):\n",
    "    \"\"\"\n",
    "    >>> print_sorted({\"a\": 5, \"c\": 6, \"b\": [1, 3, 2, 4]})\n",
    "    {'a': 5, 'b': [1, 2, 3, 4], 'c': 6}\n",
    "    >>> print_sorted({\"a\": (\"y\",\"u\",\"z\",\"w\",\"x\"), \"c\": 59, \"b\": [1, 3, 2, 4]})\n",
    "    {'a': ('u', 'w', 'x', 'y', 'z'), 'b': [1, 2, 3, 4], 'c': 59}\n",
    "    >>> print_sorted({\"a\": (\"y\",\"u\",\"z\",\"w\",\"x\"), \"a \": 59, \"a1\": [1, 3, 2, 4]})\n",
    "    {'a': ('u', 'w', 'x', 'y', 'z'), 'a ': 59, 'a1': [1, 2, 3, 4]}\n",
    "    >>> print_sorted({\"a\": {\"y\":5,\"u\":25,\"z\":15,\"w\":1,\"x\":45}, \"a \": 59, \"a1\": [1, 3, 2, 4]})\n",
    "    {'a': {'u': 25, 'w': 1, 'x': 45, 'y': 5, 'z': 15}, 'a ': 59, 'a1': [1, 2, 3, 4]}\n",
    "    >>> print_sorted({\"a\": {\"l\":{\"p\":{\"y\":{\"z\":(4,9,7,0,5)}}},\"u\":25,\"z\":15,\"w\":1,\"x\":45}, \"a \": 59, \"a1\": [1, 3, 2, 4]})\n",
    "    {'a': {'l': {'p': {'y': {'z': (0, 4, 5, 7, 9)}}}, 'u': 25, 'w': 1, 'x': 45, 'z': 15}, 'a ': 59, 'a1': [1, 2, 3, 4]}\n",
    "    \"\"\"\n",
    "    # Calls helper function to sort the data and use its output for printing.\n",
    "    print(recurSort(data))\n",
    "\n",
    "# Function which sorts the data in all levels and returns it.\n",
    "def recurSort(data):\n",
    "    # If data is a dictionary then sort it and return it sorted\n",
    "    if isinstance(data, dict):\n",
    "        # Sort the dictionary .\n",
    "        return {k: recurSort(v) for k, v in sorted(data.items())}\n",
    "    # If data is a list, tuple or a set then sort it and return it sorted\n",
    "    elif isinstance(data, (list, set, tuple)):\n",
    "        # Sort the list , tuple or set .\n",
    "        return type(data)(recurSort(x) for x in sorted(data))\n",
    "    # If other data type then return it as it is.\n",
    "    return data"
   ]
  },
  {
   "cell_type": "code",
   "execution_count": 35,
   "metadata": {},
   "outputs": [
    {
     "data": {
      "text/plain": [
       "TestResults(failed=0, attempted=5)"
      ]
     },
     "execution_count": 35,
     "metadata": {},
     "output_type": "execute_result"
    }
   ],
   "source": [
    "import doctest\n",
    "doctest.testmod()"
   ]
  }
 ],
 "metadata": {
  "kernelspec": {
   "display_name": "Python 3.8.10 64-bit",
   "language": "python",
   "name": "python3"
  },
  "language_info": {
   "codemirror_mode": {
    "name": "ipython",
    "version": 3
   },
   "file_extension": ".py",
   "mimetype": "text/x-python",
   "name": "python",
   "nbconvert_exporter": "python",
   "pygments_lexer": "ipython3",
   "version": "3.8.10"
  },
  "orig_nbformat": 4,
  "vscode": {
   "interpreter": {
    "hash": "e7370f93d1d0cde622a1f8e1c04877d8463912d04d973331ad4851f04de6915a"
   }
  }
 },
 "nbformat": 4,
 "nbformat_minor": 2
}
