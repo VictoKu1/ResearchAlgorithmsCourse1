{
 "cells": [
  {
   "cell_type": "markdown",
   "metadata": {},
   "source": [
    "![p.png](/p.png)\n",
    "https://www.codingame.com/training/easy/the-descent/solution?id=26968226\n",
    "\n",
    "\n"
   ]
  }
 ],
 "metadata": {
  "kernelspec": {
   "display_name": "Python 3.10.8 64-bit (microsoft store)",
   "language": "python",
   "name": "python3"
  },
  "language_info": {
   "name": "python",
   "version": "3.10.8"
  },
  "orig_nbformat": 4,
  "vscode": {
   "interpreter": {
    "hash": "502902bf03e26b54e4f77c162d1f4dfabc36b1117ef309ff632b5314a103657d"
   }
  }
 },
 "nbformat": 4,
 "nbformat_minor": 2
}
