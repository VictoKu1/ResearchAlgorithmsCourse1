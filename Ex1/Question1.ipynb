{
 "cells": [
  {
   "cell_type": "code",
   "execution_count": 1,
   "metadata": {},
   "outputs": [],
   "source": [
    "def f(x: int, y: float, z):\n",
    "    return x+y+z"
   ]
  },
  {
   "cell_type": "code",
   "execution_count": 5,
   "metadata": {},
   "outputs": [],
   "source": [
    "# Function safe_call recieves as input a function and a list of arguments.\n",
    "def safe_call(f, *args, **kwargs):\n",
    "    \"\"\"\n",
    "    >>> safe_call(f, x=5,y=7.0,z=3)\n",
    "    15.0\n",
    "    >>> safe_call(f, x=5,y=\"abc\",z=3)\n",
    "    Traceback (most recent call last):\n",
    "    ...\n",
    "    TypeError: The arguments don't fit the function's annotations\n",
    "    \"\"\"\n",
    "    # Calls the function with the arguments only if they fit exactly to what is defined in the annotations of the function.\n",
    "    # If the the types dont fit, the function throws an exception (If some of the arguments dont have annotations, they dont need to be checked).\n",
    "    try:\n",
    "        f(*args, **kwargs)\n",
    "    except TypeError:\n",
    "        raise TypeError(\"The arguments don't fit the function's annotations\")\n",
    "    else:\n",
    "        return f(*args, **kwargs)"
   ]
  },
  {
   "cell_type": "code",
   "execution_count": 9,
   "metadata": {},
   "outputs": [
    {
     "data": {
      "text/plain": [
       "TestResults(failed=0, attempted=2)"
      ]
     },
     "execution_count": 9,
     "metadata": {},
     "output_type": "execute_result"
    }
   ],
   "source": [
    "import doctest\n",
    "doctest.testmod()"
   ]
  },
  {
   "cell_type": "markdown",
   "metadata": {},
   "source": []
  }
 ],
 "metadata": {
  "kernelspec": {
   "display_name": "Python 3.9.13 64-bit (microsoft store)",
   "language": "python",
   "name": "python3"
  },
  "language_info": {
   "codemirror_mode": {
    "name": "ipython",
    "version": 3
   },
   "file_extension": ".py",
   "mimetype": "text/x-python",
   "name": "python",
   "nbconvert_exporter": "python",
   "pygments_lexer": "ipython3",
   "version": "3.9.13"
  },
  "orig_nbformat": 4,
  "vscode": {
   "interpreter": {
    "hash": "e68ccf7f82a54a001bb85e159bb558c4ffdcd89e51ff3430bc48455299f5678a"
   }
  }
 },
 "nbformat": 4,
 "nbformat_minor": 2
}
