{
 "cells": [
  {
   "cell_type": "code",
   "execution_count": 117,
   "metadata": {},
   "outputs": [],
   "source": [
    "def f(x:int, y:float, z):\n",
    "    return x+y+z"
   ]
  },
  {
   "cell_type": "code",
   "execution_count": 159,
   "metadata": {},
   "outputs": [],
   "source": [
    "import math\n",
    "# Function recieves as input a function and a list of arguments. \n",
    "def safe_call(f, *args, **kwargs):\n",
    "    \"\"\"\n",
    "    >>> safe_call(f, 1)\n",
    "    Traceback (most recent call last):\n",
    "    ...\n",
    "    TypeError: f() missing 2 required positional arguments: 'y' and 'z'\n",
    "    >>> safe_call(f, x=5,y=7.0,z=3)\n",
    "    15.0\n",
    "    >>> safe_call(f, x=5,y=\"abc\",z=3)\n",
    "    Traceback (most recent call last):\n",
    "    ...\n",
    "    TypeError: The arguments don't fit the function's annotations\n",
    "    >>> safe_call(f, x=5,y=7.0,z=3.0)\n",
    "    15.0\n",
    "    >>> safe_call(f, x=1.59,y=7.0,z=3)\n",
    "    Traceback (most recent call last):\n",
    "    ...\n",
    "    TypeError: The arguments don't fit the function's annotations\n",
    "    >>> safe_call(f, x=1,y=7.0,z=\"3\")\n",
    "    Traceback (most recent call last):\n",
    "    ...\n",
    "    TypeError: unsupported operand type(s) for +: 'float' and 'str'\n",
    "    >>> safe_call(f, x=1,y=7.0,z=3,a=5)\n",
    "    Traceback (most recent call last):\n",
    "    ...\n",
    "    TypeError: f() got an unexpected keyword argument 'a'\n",
    "    >>> safe_call(f,1,5.0,9)\n",
    "    15.0\n",
    "    >>> safe_call(math.pow,1,5)\n",
    "    1.0\n",
    "    \"\"\"\n",
    "    # Check if the arguments fit the given function annotations .\n",
    "    try:\n",
    "        annotations = f.__annotations__\n",
    "        args_names = f.__code__.co_varnames\n",
    "    except AttributeError:\n",
    "       return f(*args, **kwargs)\n",
    "    # Check if the arguments fit the given function annotations .\n",
    "    for i in range(len(args)):\n",
    "        if args_names[i] in annotations and not isinstance(args[i], annotations[args_names[i]]):\n",
    "                raise TypeError(\"The arguments don't fit the function's annotations\")\n",
    "    # Check if the arguments fit the given function annotations ( For example in case the arguments are given as key = value ) .\n",
    "    for key in kwargs:\n",
    "        if key in annotations and not isinstance(kwargs[key], annotations[key]):\n",
    "                raise TypeError(\"The arguments don't fit the function's annotations\")\n",
    "    # Call the function with the given arguments .\n",
    "    return f(*args, **kwargs)"
   ]
  },
  {
   "cell_type": "code",
   "execution_count": 179,
   "metadata": {},
   "outputs": [
    {
     "data": {
      "text/plain": [
       "TestResults(failed=0, attempted=9)"
      ]
     },
     "execution_count": 179,
     "metadata": {},
     "output_type": "execute_result"
    }
   ],
   "source": [
    "import doctest\n",
    "doctest.testmod()"
   ]
  },
  {
   "cell_type": "markdown",
   "metadata": {},
   "source": []
  }
 ],
 "metadata": {
  "kernelspec": {
   "display_name": "Python 3.8.10 64-bit",
   "language": "python",
   "name": "python3"
  },
  "language_info": {
   "codemirror_mode": {
    "name": "ipython",
    "version": 3
   },
   "file_extension": ".py",
   "mimetype": "text/x-python",
   "name": "python",
   "nbconvert_exporter": "python",
   "pygments_lexer": "ipython3",
   "version": "3.8.10"
  },
  "orig_nbformat": 4,
  "vscode": {
   "interpreter": {
    "hash": "e7370f93d1d0cde622a1f8e1c04877d8463912d04d973331ad4851f04de6915a"
   }
  }
 },
 "nbformat": 4,
 "nbformat_minor": 2
}
