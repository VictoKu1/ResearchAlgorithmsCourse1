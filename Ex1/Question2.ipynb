{
 "cells": [
  {
   "cell_type": "code",
   "execution_count": 9,
   "metadata": {},
   "outputs": [],
   "source": [
    "# Node is a tuple of (x,y)\n",
    "Node = (int, int)\n",
    "def four_neighbor_function(node:Node):\n",
    "    (x,y) = node\n",
    "    return [(x+1,y),(x-1,y),(x,y+1),(x,y-1)]"
   ]
  },
  {
   "cell_type": "code",
   "execution_count": 71,
   "metadata": {},
   "outputs": [],
   "source": [
    "# Breadth First Search algorithm,\n",
    "# Parameter start = (x,y),\n",
    "# Parameter end = (x,y),\n",
    "# Function neighbor_function = function which recieves a point and returns a list of its neighbours,\n",
    "# Returns a shortest path from start to end.\n",
    "def breadth_first_search(start, end, neighbor_function):\n",
    "    \"\"\"\n",
    "    >>> breadth_first_search(start=(0,0),end=(0,0),neighbor_function=four_neighbor_function)\n",
    "    [(0, 0)]\n",
    "    >>> breadth_first_search(start=(-1,-1),end=(1,1),neighbor_function=four_neighbor_function)\n",
    "    [(-1, -1), (0, -1), (1, -1), (1, 0), (1, 1)]\n",
    "    >>> breadth_first_search(start=(1,1),end=(-1,-1),neighbor_function=four_neighbor_function)\n",
    "    [(1, 1), (0, 1), (-1, 1), (-1, 0), (-1, -1)]\n",
    "    >>> breadth_first_search(start=(0,0),end=(2,2),neighbor_function=four_neighbor_function)\n",
    "    [(0, 0), (1, 0), (2, 0), (2, 1), (2, 2)]\n",
    "    >>> breadth_first_search(start=(2,5),end=(5,5),neighbor_function=four_neighbor_function)\n",
    "    [(2, 5), (3, 5), (4, 5), (5, 5)]\n",
    "    \"\"\"\n",
    "    # Queue of nodes to visit\n",
    "    queue = [start]\n",
    "    # Dictionary of nodes and their parents\n",
    "    parents = {start: None}\n",
    "    while queue:\n",
    "        # Get the first node in the queue\n",
    "        node = queue.pop(0)\n",
    "        # If the node is the end node, we have found a path\n",
    "        if node == end:\n",
    "            # Reconstruct the path\n",
    "            path = [node]\n",
    "            while node != start:\n",
    "                node = parents[node]\n",
    "                path.append(node)\n",
    "            path.reverse()\n",
    "            return path\n",
    "        # Add the neighbors of the node to the queue\n",
    "        for neighbor in neighbor_function(node):\n",
    "            if neighbor not in parents:\n",
    "                parents[neighbor] = node\n",
    "                queue.append(neighbor)\n",
    "    return None\n"
   ]
  },
  {
   "cell_type": "code",
   "execution_count": 79,
   "metadata": {},
   "outputs": [
    {
     "data": {
      "text/plain": [
       "TestResults(failed=0, attempted=5)"
      ]
     },
     "execution_count": 79,
     "metadata": {},
     "output_type": "execute_result"
    }
   ],
   "source": [
    "import doctest\n",
    "doctest.testmod()"
   ]
  }
 ],
 "metadata": {
  "kernelspec": {
   "display_name": "Python 3.9.13 64-bit (microsoft store)",
   "language": "python",
   "name": "python3"
  },
  "language_info": {
   "codemirror_mode": {
    "name": "ipython",
    "version": 3
   },
   "file_extension": ".py",
   "mimetype": "text/x-python",
   "name": "python",
   "nbconvert_exporter": "python",
   "pygments_lexer": "ipython3",
   "version": "3.9.13"
  },
  "orig_nbformat": 4,
  "vscode": {
   "interpreter": {
    "hash": "e68ccf7f82a54a001bb85e159bb558c4ffdcd89e51ff3430bc48455299f5678a"
   }
  }
 },
 "nbformat": 4,
 "nbformat_minor": 2
}
