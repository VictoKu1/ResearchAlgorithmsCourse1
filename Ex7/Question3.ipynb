{
 "cells": [
  {
   "attachments": {},
   "cell_type": "markdown",
   "metadata": {},
   "source": [
    "![screen.png](/screen.png)\n",
    "https://www.codingame.com/training/expert/shadows-of-the-knight-episode-2/solution?id=27585010"
   ]
  }
 ],
 "metadata": {
  "kernelspec": {
   "display_name": "Python 3",
   "language": "python",
   "name": "python3"
  },
  "language_info": {
   "name": "python",
   "version": "3.10.8 (tags/v3.10.8:aaaf517, Oct 11 2022, 16:50:30) [MSC v.1933 64 bit (AMD64)]"
  },
  "orig_nbformat": 4,
  "vscode": {
   "interpreter": {
    "hash": "502902bf03e26b54e4f77c162d1f4dfabc36b1117ef309ff632b5314a103657d"
   }
  }
 },
 "nbformat": 4,
 "nbformat_minor": 2
}
