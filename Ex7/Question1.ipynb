{
 "cells": [
  {
   "cell_type": "code",
   "execution_count": 1,
   "metadata": {},
   "outputs": [],
   "source": [
    "# A comparing of performance between numpy and cvxpy, it will be performed by solving a system of linear equations of different sizes with random coefficients, after that will draw a graph of the runtime as a function of the size of the system.\n",
    "import matplotlib.pyplot as plt\n",
    "import numpy as np\n",
    "import cvxpy as cp\n",
    "import random as rnd\n",
    "import time as tm\n",
    "import math as m\n"
   ]
  },
  {
   "cell_type": "code",
   "execution_count": 2,
   "metadata": {},
   "outputs": [],
   "source": [
    "# Function which generates a system of linear equations of different sizes with random coefficients and returns them.\n",
    "def generate_a_system_of_linear_equations(n=rnd.randint(1, 1000)):\n",
    "    A = np.random.rand(n, n)\n",
    "    b = np.random.rand(n)\n",
    "    return A, b"
   ]
  },
  {
   "cell_type": "code",
   "execution_count": 3,
   "metadata": {},
   "outputs": [],
   "source": [
    "# Function which solves a system of linear equations using numpy and returns the runtime.\n",
    "def solve_a_system_of_linear_equations_using_numpy(A, b):\n",
    "    start_time = tm.time()\n",
    "    x = np.linalg.solve(A, b)\n",
    "    end_time = tm.time()\n",
    "    return x, end_time - start_time"
   ]
  },
  {
   "cell_type": "code",
   "execution_count": 4,
   "metadata": {},
   "outputs": [],
   "source": [
    "# Function which solves a system of linear equations using cvxpy and returns the runtime.\n",
    "def solve_a_system_of_linear_equations_using_cvxpy(A, b):\n",
    "    start_time = tm.time()\n",
    "    x = cp.Variable(A.shape[1])\n",
    "    objective = cp.Minimize(cp.sum_squares(A @ x - b))\n",
    "    constraints = []\n",
    "    prob = cp.Problem(objective, constraints)\n",
    "    prob.solve()\n",
    "    end_time = tm.time()\n",
    "    return x.value, end_time - start_time"
   ]
  },
  {
   "cell_type": "code",
   "execution_count": 5,
   "metadata": {},
   "outputs": [],
   "source": [
    "# Function which draws a graph of the runtime as a function of the size of the system n is a vector of numbers, numpy_runtime is a vector of numbers representing the runtime of solving the system using numpy.\n",
    "def draw_a_graph_of_the_runtime_as_a_function_of_the_size_of_the_system(n, numpy_runtime, cvxpy_runtime):\n",
    "    plt.plot(n, numpy_runtime, label='numpy')\n",
    "    plt.plot(n, cvxpy_runtime, label='cvxpy')\n",
    "    plt.xlabel('n')\n",
    "    plt.ylabel('runtime')\n",
    "    plt.legend()\n",
    "    plt.show()"
   ]
  },
  {
   "cell_type": "code",
   "execution_count": 6,
   "metadata": {},
   "outputs": [],
   "source": [
    "# Function receives a list of numbers and for each cell in the list calculates the sum.\n",
    "def calc_sum(list):\n",
    "    sum = []\n",
    "    for cell in list:\n",
    "        sum.append(np.sum(cell))\n",
    "    return sum"
   ]
  },
  {
   "cell_type": "code",
   "execution_count": 7,
   "metadata": {},
   "outputs": [],
   "source": [
    "# Function which receives a vector of numbers of numbers and a vector of booleans and draws a graph of the numbers as a function of the booleans.\n",
    "def draw_a_graph_of_the_n_as_a_function_of_the_matching(n,match):\n",
    "    match= calc_sum(match)\n",
    "    plt.plot(n, match, label='Difference between the two solutions')\n",
    "    plt.xlabel('n')\n",
    "    plt.ylabel('match')\n",
    "    plt.legend()\n",
    "    plt.show()"
   ]
  },
  {
   "cell_type": "code",
   "execution_count": 8,
   "metadata": {},
   "outputs": [],
   "source": [
    "# Function which runs the program.\n",
    "def check():\n",
    "    n = []\n",
    "    numpy_runtime = []\n",
    "    cvxpy_runtime = []\n",
    "    match = []\n",
    "    for i in range(1, 1000):\n",
    "        A, b = generate_a_system_of_linear_equations(i)\n",
    "        n.append(i)\n",
    "        x, runtime = solve_a_system_of_linear_equations_using_numpy(A, b)\n",
    "        numpy_runtime.append(runtime)\n",
    "        solution, runtime = solve_a_system_of_linear_equations_using_cvxpy(A, b)\n",
    "        cvxpy_runtime.append(runtime)\n",
    "        match.append(abs(x - solution))\n",
    "    draw_a_graph_of_the_runtime_as_a_function_of_the_size_of_the_system(n, numpy_runtime, cvxpy_runtime)\n",
    "    draw_a_graph_of_the_n_as_a_function_of_the_matching(n, match)"
   ]
  },
  {
   "cell_type": "code",
   "execution_count": 9,
   "metadata": {},
   "outputs": [],
   "source": [
    "check()"
   ]
  }
 ],
 "metadata": {
  "kernelspec": {
   "display_name": "Python 3.8.10 64-bit",
   "language": "python",
   "name": "python3"
  },
  "language_info": {
   "codemirror_mode": {
    "name": "ipython",
    "version": 3
   },
   "file_extension": ".py",
   "mimetype": "text/x-python",
   "name": "python",
   "nbconvert_exporter": "python",
   "pygments_lexer": "ipython3",
   "version": "3.8.10"
  },
  "orig_nbformat": 4,
  "vscode": {
   "interpreter": {
    "hash": "5b3ded1ccb95c1d9bd405e7b823d9e85424cde40fbb5985eb47e999ef50e15b4"
   }
  }
 },
 "nbformat": 4,
 "nbformat_minor": 2
}
