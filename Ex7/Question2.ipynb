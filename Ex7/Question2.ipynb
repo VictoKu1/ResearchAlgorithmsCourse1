{
 "cells": [
  {
   "cell_type": "code",
   "execution_count": null,
   "metadata": {},
   "outputs": [],
   "source": [
    "# Calculating the approximation ratio by comparing the approximation algorithm to the greedy, specified on a networkx approximation algorithm for cliques.\n",
    "import matplotlib.pyplot as plt\n",
    "import plotly.express as px\n",
    "import networkx as nx\n",
    "import random as rnd\n",
    "import pandas as pd\n",
    "import numpy as np"
   ]
  },
  {
   "cell_type": "code",
   "execution_count": null,
   "metadata": {},
   "outputs": [],
   "source": [
    "# Function which generates a random number n and a random number between 0 and 1 p, and returns a random graph with n nodes and probability p\n",
    "def random_graph(n, p):\n",
    "    return nx.gnp_random_graph(n, p)"
   ]
  },
  {
   "cell_type": "code",
   "execution_count": null,
   "metadata": {},
   "outputs": [],
   "source": [
    "# Function which uses the greedy algorithm to return the maximum clique of a graph\n",
    "def greedy(graph):\n",
    "    cliques = nx.find_cliques(graph)\n",
    "    max_clique = 0\n",
    "    for clique in cliques:\n",
    "        if len(clique) > max_clique:\n",
    "            max_clique = len(clique)\n",
    "    return max_clique"
   ]
  },
  {
   "cell_type": "code",
   "execution_count": null,
   "metadata": {},
   "outputs": [],
   "source": [
    "# Function which uses the approximation algorithm to return the maximum clique of a graph\n",
    "def approx(graph):\n",
    "    return nx.algorithms.approximation.clique.max_clique(graph)"
   ]
  },
  {
   "cell_type": "code",
   "execution_count": null,
   "metadata": {},
   "outputs": [],
   "source": [
    "# Function which returns the approximation ratio of the approximation algorithm to the greedy algorithm\n",
    "def approx_ratio(graph):\n",
    "    return len(approx(graph))/greedy(graph)"
   ]
  },
  {
   "cell_type": "code",
   "execution_count": null,
   "metadata": {},
   "outputs": [],
   "source": [
    "# Function which receives a list of values of n, and a list of approximation ratio of the approximation algorithm to the greedy algorithm and draws a graph of the approximation ratio as a function of n\n",
    "def draw_a_graph_of_approx_ratio_as_a_function_of_n(n_list, ratio):\n",
    "    plt.plot(n_list, ratio, 'bo')\n",
    "    plt.xlabel('n')\n",
    "    plt.ylabel('Approximation ratio')\n",
    "    plt.show()"
   ]
  },
  {
   "cell_type": "code",
   "execution_count": null,
   "metadata": {},
   "outputs": [],
   "source": [
    "# Function which receives a list of list of values of n, list of lists of values of p and a list of lists of approximation ratio and calculates an approximate 3D plane that fits the data points and draws it.\n",
    "def draw_a_3D_graph_of_approx_ratio_as_a_function_of_n_and_p(n_list, p_list, ratio):\n",
    "    df = pd.DataFrame()\n",
    "    for i in range(len(n_list)):\n",
    "        df = pd.concat(\n",
    "            [df, pd.DataFrame({'n': n_list[i], 'p': p_list[i], 'ratio': ratio[i]})])\n",
    "    fig = px.scatter_3d(df, x='n', y='p', z='ratio', opacity=0.7)\n",
    "    fig.show()"
   ]
  },
  {
   "cell_type": "code",
   "execution_count": null,
   "metadata": {},
   "outputs": [],
   "source": [
    "# Function which returns the average approximation ratio of the approximation algorithm to the greedy algorithm for a range of values of n and p\n",
    "def check():\n",
    "    nlist = []\n",
    "    plist = []\n",
    "    r = []\n",
    "    for index in range(1, 11):\n",
    "        n_list = []\n",
    "        p_list = []\n",
    "        ratio = []\n",
    "        p = rnd.uniform(0.1*(index-1), 0.1*index)\n",
    "        for n in range(1, 59):\n",
    "            n_list.append(n)\n",
    "            graph = random_graph(n, p)\n",
    "            p_list.append(p)\n",
    "            ratio.append(approx_ratio(graph))\n",
    "        print(\"p =\", p)\n",
    "        draw_a_graph_of_approx_ratio_as_a_function_of_n(n_list, ratio)\n",
    "        nlist.append(n_list)\n",
    "        plist.append(p_list)\n",
    "        r.append(ratio)\n",
    "    draw_a_3D_graph_of_approx_ratio_as_a_function_of_n_and_p(nlist, plist, r)"
   ]
  },
  {
   "cell_type": "code",
   "execution_count": null,
   "metadata": {},
   "outputs": [],
   "source": [
    "check()"
   ]
  },
  {
   "attachments": {},
   "cell_type": "markdown",
   "metadata": {},
   "source": [
    "![newplot.png](/newplot.png)"
   ]
  }
 ],
 "metadata": {
  "kernelspec": {
   "display_name": "Python 3",
   "language": "python",
   "name": "python3"
  },
  "language_info": {
   "codemirror_mode": {
    "name": "ipython",
    "version": 3
   },
   "file_extension": ".py",
   "mimetype": "text/x-python",
   "name": "python",
   "nbconvert_exporter": "python",
   "pygments_lexer": "ipython3",
   "version": "3.8.10"
  },
  "orig_nbformat": 4,
  "vscode": {
   "interpreter": {
    "hash": "5b3ded1ccb95c1d9bd405e7b823d9e85424cde40fbb5985eb47e999ef50e15b4"
   }
  }
 },
 "nbformat": 4,
 "nbformat_minor": 2
}
