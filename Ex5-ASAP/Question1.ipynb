{
 "cells": [
  {
   "cell_type": "code",
   "execution_count": 18,
   "metadata": {},
   "outputs": [],
   "source": [
    "# Function gets a list of numbers and a number, and adds the numbers on the list to each other, from left to right, until the sum is greater than the number and returns the index of the number that caused the sum to be greater than the number.\n",
    "\n",
    "from itertools import accumulate\n",
    "\n",
    "def find_index(L, N):\n",
    "    try:\n",
    "        return next(i for i, x in enumerate(accumulate(L)) if x > N)\n",
    "    except:\n",
    "        return len(L)"
   ]
  },
  {
   "cell_type": "code",
   "execution_count": 19,
   "metadata": {},
   "outputs": [],
   "source": [
    "# Checks if the inputted function is a generator.\n",
    "\n",
    "from inspect import isgeneratorfunction, isgenerator\n",
    "\n",
    "def is_generator(f):\n",
    "    return isgeneratorfunction(f) or isgenerator(f)"
   ]
  },
  {
   "cell_type": "code",
   "execution_count": 20,
   "metadata": {},
   "outputs": [],
   "source": [
    "# Iterator, which receives a list S of different positive numbers and some positive number C, and creates a sequence of all subsets of S, whose sum is less or equal to C.\n",
    "\n",
    "from itertools import combinations\n",
    "9\n",
    "def bounded_subsets(S, C):\n",
    "    '''\n",
    "    >>> for s in bounded_subsets([1,2,3], 4):\n",
    "    ...     print(s, end=\" \")\n",
    "    [] [1] [2] [3] [1, 2] [1, 3] \n",
    "    >>> for s in bounded_subsets(range(50, 150), 103):\n",
    "    ...     print(s, end=\" \")\n",
    "    [] [50] [51] [52] [53] [54] [55] [56] [57] [58] [59] [60] [61] [62] [63] [64] [65] [66] [67] [68] [69] [70] [71] [72] [73] [74] [75] [76] [77] [78] [79] [80] [81] [82] [83] [84] [85] [86] [87] [88] [89] [90] [91] [92] [93] [94] [95] [96] [97] [98] [99] [100] [101] [102] [103] [50, 51] [50, 52] [50, 53] \n",
    "    >>> for s in zip(range(5), bounded_subsets(range(100), 1000000000000)):\n",
    "    ...     print(s, end=\" \")\n",
    "    (0, []) (1, [0]) (2, [1]) (3, [2]) (4, [3]) \n",
    "    >>> for s in bounded_subsets([1,2,3], -5):\n",
    "    ...     print(s, end=\" \")\n",
    "    [] \n",
    "    >>> for s in bounded_subsets([], 159):\n",
    "    ...     print(s, end=\" \")\n",
    "    [] \n",
    "    >>> print(str(type(bounded_subsets([],1)))==\"<class 'generator'>\")\n",
    "    True\n",
    "    >>> print(isinstance(bounded_subsets([], 1), types.GeneratorType))\n",
    "    True\n",
    "    >>> print(is_generator(bounded_subsets([], 1)))\n",
    "    True\n",
    "    >>> print(is_generator(bounded_subsets))\n",
    "    True\n",
    "    '''\n",
    "    # Cache is used to ignore the permutations of the same subset, in case the input have duplicates.\n",
    "    cache = []\n",
    "    # In case C is negative, S contains negative numbers, S or C are empty or S or C contains non numeric values, return an empty list.\n",
    "    numerical = (int, float, complex)\n",
    "    if not isinstance(C, numerical) or not all(isinstance(x, numerical) for x in S) or not (C and S) or len(S) == 0 or C < 0:\n",
    "        yield []\n",
    "        return\n",
    "    # If S is not sorted, sort it, because the mechanism that should prevent from useless iterations, depends on the order of the numbers in S.\n",
    "    S = sorted(S)\n",
    "    # Find in the sorted list the index of the first number which in the sum of all the numbers before it, is greater than C, so the function will not perform additional iteration with no need.\n",
    "    index = find_index(S, C)\n",
    "    if index == -1:\n",
    "        yield []\n",
    "        return\n",
    "    # Build combination of every length, from 0 to the index found above, and not hardcoded to the length of S, because it is possible that the sum of all the numbers in S is greater than C.\n",
    "    for i in range(index + 1):\n",
    "        # Check for every combination of length i, if the sum of the numbers in the combination is less or equal to C.\n",
    "        for combination in combinations(S, i):\n",
    "            # If the list contains several times the same number, the function will return the same combination several times, so we need to check if the combination is already in the cache, if its there, the function will ignore this combination.\n",
    "            if combination in cache:\n",
    "                continue\n",
    "            # If the sum of the numbers in the combination is less or equal to C, add the combination to the cache and yield it.\n",
    "            if sum(combination) <= C:\n",
    "                cache.append(combination)\n",
    "                yield list(combination)\n",
    "            else:\n",
    "                break"
   ]
  },
  {
   "cell_type": "code",
   "execution_count": 21,
   "metadata": {},
   "outputs": [],
   "source": [
    "# Function receives receives a list S of different positive numbers and a number C, creates a sequence of all subsets of S, whose sum is less or equal to C and iterates over the sequence by the sum of the numbers in each subset, from the smallest to the largest.\n",
    "\n",
    "from itertools import combinations\n",
    "\n",
    "def bounded_subsets_increasing(S, C):\n",
    "    '''\n",
    "    >>> for s in bounded_subsets_increasing([1,2,3], 4):\n",
    "    ...     print(s, end=\" \")\n",
    "    [] [1] [2] [3] [1, 2] [1, 3] \n",
    "    >>> for s in bounded_subsets_increasing(range(50, 150), 103):\n",
    "    ...     print(s, end=\" \")\n",
    "    [] [50] [51] [52] [53] [54] [55] [56] [57] [58] [59] [60] [61] [62] [63] [64] [65] [66] [67] [68] [69] [70] [71] [72] [73] [74] [75] [76] [77] [78] [79] [80] [81] [82] [83] [84] [85] [86] [87] [88] [89] [90] [91] [92] [93] [94] [95] [96] [97] [98] [99] [100] [101] [50, 51] [102] [50, 52] [103] [50, 53] \n",
    "    >>> for s in bounded_subsets_increasing([1,2,3], -5):\n",
    "    ...     print(s, end=\" \")\n",
    "    [] \n",
    "    >>> for s in bounded_subsets([], 159):\n",
    "    ...     print(s, end=\" \")\n",
    "    [] \n",
    "    >>> print(is_generator(bounded_subsets_increasing([], 1)))\n",
    "    True\n",
    "    >>> print(is_generator(bounded_subsets_increasing))\n",
    "    True\n",
    "    >>> print(str(type(bounded_subsets_increasing([],1)))==\"<class 'generator'>\")\n",
    "    True\n",
    "    >>> print(isinstance(bounded_subsets_increasing([], 1), types.GeneratorType))\n",
    "    True\n",
    "    '''\n",
    "    yield from sorted(bounded_subsets(S, C), key=sum)"
   ]
  },
  {
   "cell_type": "code",
   "execution_count": 22,
   "metadata": {},
   "outputs": [
    {
     "data": {
      "text/plain": [
       "TestResults(failed=0, attempted=17)"
      ]
     },
     "execution_count": 22,
     "metadata": {},
     "output_type": "execute_result"
    }
   ],
   "source": [
    "import doctest, types\n",
    "doctest.testmod()\n",
    "\n",
    "\n"
   ]
  }
 ],
 "metadata": {
  "kernelspec": {
   "display_name": "Python 3.8.10 64-bit",
   "language": "python",
   "name": "python3"
  },
  "language_info": {
   "codemirror_mode": {
    "name": "ipython",
    "version": 3
   },
   "file_extension": ".py",
   "mimetype": "text/x-python",
   "name": "python",
   "nbconvert_exporter": "python",
   "pygments_lexer": "ipython3",
   "version": "3.8.10"
  },
  "orig_nbformat": 4,
  "vscode": {
   "interpreter": {
    "hash": "5b3ded1ccb95c1d9bd405e7b823d9e85424cde40fbb5985eb47e999ef50e15b4"
   }
  }
 },
 "nbformat": 4,
 "nbformat_minor": 2
}
